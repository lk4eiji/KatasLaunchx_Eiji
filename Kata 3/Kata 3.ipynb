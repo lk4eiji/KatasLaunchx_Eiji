{
 "cells": [
  {
   "cell_type": "markdown",
   "metadata": {},
   "source": [
    "# Ejercicio 1"
   ]
  },
  {
   "cell_type": "code",
   "execution_count": null,
   "metadata": {},
   "outputs": [],
   "source": [
    "asteroide = 49\n",
    "if asteroide > 25:\n",
    "    print('Peligro, Un asteroide se acerca a la tierra')\n",
    "else:\n",
    "    print('No existe peligro')"
   ]
  },
  {
   "cell_type": "markdown",
   "metadata": {},
   "source": [
    "# Ejercicio 2"
   ]
  },
  {
   "cell_type": "code",
   "execution_count": null,
   "metadata": {},
   "outputs": [],
   "source": [
    "asteroide = 19\n",
    "if asteroide >= 20:\n",
    "    print('Una estrella fugaz pide un deseo')\n",
    "else:\n",
    "    print('No se ve nada en el cielo')"
   ]
  },
  {
   "cell_type": "markdown",
   "metadata": {},
   "source": [
    "# Ejercicio 3"
   ]
  },
  {
   "cell_type": "code",
   "execution_count": null,
   "metadata": {},
   "outputs": [],
   "source": [
    "velocidad = 25\n",
    "tamano = 40\n",
    "if velocidad >= 25 and tamano >= 25:\n",
    "    print('Peligro, Un asteroide se acerca a la tierra')\n",
    "elif velocidad >= 20:\n",
    "    print('Una estrella fugaz pide un deseo')\n",
    "elif tamano < 25:\n",
    "    print('No se ve nada en el cielo')\n",
    "else:\n",
    "    print('No se ve nada en el cielo')"
   ]
  }
 ],
 "metadata": {
  "interpreter": {
   "hash": "8ac3a16bf51a24622da828a1ba1508546569d6c710253127b356bc3ad9e33352"
  },
  "kernelspec": {
   "display_name": "Python 3.10.2 64-bit",
   "language": "python",
   "name": "python3"
  },
  "language_info": {
   "codemirror_mode": {
    "name": "ipython",
    "version": 3
   },
   "file_extension": ".py",
   "mimetype": "text/x-python",
   "name": "python",
   "nbconvert_exporter": "python",
   "pygments_lexer": "ipython3",
   "version": "3.10.2"
  },
  "orig_nbformat": 4
 },
 "nbformat": 4,
 "nbformat_minor": 2
}
